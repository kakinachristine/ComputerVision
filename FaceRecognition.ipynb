{
 "cells": [
  {
   "cell_type": "code",
   "id": "initial_id",
   "metadata": {
    "collapsed": true
   },
   "source": [
    "#Install opencv\n",
    "!pip install opencv-python==4.8.1.78"
   ],
   "outputs": [],
   "execution_count": null
  },
  {
   "metadata": {
    "ExecuteTime": {
     "end_time": "2025-07-30T12:27:41.321082Z",
     "start_time": "2025-07-30T12:27:40.992498Z"
    }
   },
   "cell_type": "code",
   "source": [
    "#Open cv2 is used to work with images>> converts imgs to numerics\n",
    "# CV >> computer vision\n",
    "import cv2\n",
    "cv2.__version__"
   ],
   "id": "ef8c5469942a6cc2",
   "outputs": [
    {
     "data": {
      "text/plain": [
       "'4.8.1'"
      ]
     },
     "execution_count": 1,
     "metadata": {},
     "output_type": "execute_result"
    }
   ],
   "execution_count": 1
  },
  {
   "metadata": {
    "ExecuteTime": {
     "end_time": "2025-07-30T12:27:44.192107Z",
     "start_time": "2025-07-30T12:27:44.178478Z"
    }
   },
   "cell_type": "code",
   "source": "import cv2",
   "id": "8265a8b5c363c57",
   "outputs": [],
   "execution_count": 2
  },
  {
   "metadata": {
    "ExecuteTime": {
     "end_time": "2025-07-30T12:28:10.560181Z",
     "start_time": "2025-07-30T12:28:10.551175Z"
    }
   },
   "cell_type": "code",
   "outputs": [
    {
     "data": {
      "text/plain": [
       "< cv2.CascadeClassifier 000002F165425F10>"
      ]
     },
     "execution_count": 6,
     "metadata": {},
     "output_type": "execute_result"
    }
   ],
   "source": "faceDetector",
   "id": "517315a31580c8e9",
   "execution_count": null
  },
  {
   "metadata": {
    "ExecuteTime": {
     "end_time": "2025-07-30T12:40:18.417876Z",
     "start_time": "2025-07-30T12:39:09.394036Z"
    }
   },
   "cell_type": "code",
   "source": [
    "import cv2\n",
    "import os\n",
    "\n",
    "# Get the user's real Downloads folder\n",
    "downloads_path = os.path.join(os.path.expanduser(\"~\"), \"Downloads\")\n",
    "\n",
    "# Facial Image collection\n",
    "personName= input(\"Enter the name of the person: \")\n",
    "counter = 0\n",
    "\n",
    "faceDetector = cv2.CascadeClassifier(cv2.data.haarcascades + 'haarcascade_frontalface_default.xml')\n",
    "if faceDetector.empty():\n",
    "    print(\"Error loading face detector\")\n",
    "    exit()\n",
    "\n",
    "cap = cv2.VideoCapture(0)\n",
    "\n",
    "while True:\n",
    "    success, image = cap.read()\n",
    "    if not success:\n",
    "        print(\"Failed to read from webcam.\")\n",
    "        break\n",
    "\n",
    "    facePortion = faceDetector.detectMultiScale(image)\n",
    "\n",
    "    if len(facePortion) == 0:\n",
    "        print(\"Face is not found\")\n",
    "    else:\n",
    "        for (x, y, w, h) in facePortion:\n",
    "            x = x - 30\n",
    "            y = y - 30\n",
    "            croppedImage = image[y:y+h+30, x:x+w+30]\n",
    "            counter += 1\n",
    "\n",
    "            faceImage = cv2.resize(croppedImage, (400, 400))\n",
    "            fileName = os.path.join(downloads_path, str(personName) + '_' + str(counter) + '.jpg')\n",
    "            cv2.imwrite(fileName, croppedImage)\n",
    "\n",
    "            cv2.putText(image, str(counter), (150, 150), cv2.FONT_HERSHEY_COMPLEX, 1, (0,255,0), 2)\n",
    "            cv2.rectangle(image, (x, y), (x+w+30, y+h+30), (0,255,0), 2)\n",
    "            cv2.imshow(\"Image Window\", image)\n",
    "\n",
    "    if cv2.waitKey(100) == ord('q') or counter == 100:\n",
    "        break\n",
    "\n",
    "cap.release()\n",
    "cv2.destroyAllWindows()\n"
   ],
   "id": "cd9bc411219dbf31",
   "outputs": [
    {
     "name": "stdout",
     "output_type": "stream",
     "text": [
      "Face is not found\n",
      "Face is not found\n",
      "Face is not found\n",
      "Face is not found\n",
      "Face is not found\n",
      "Face is not found\n",
      "Face is not found\n",
      "Face is not found\n",
      "Face is not found\n",
      "Face is not found\n",
      "Face is not found\n",
      "Face is not found\n",
      "Face is not found\n",
      "Face is not found\n",
      "Face is not found\n",
      "Face is not found\n",
      "Face is not found\n",
      "Face is not found\n",
      "Face is not found\n",
      "Face is not found\n",
      "Face is not found\n",
      "Face is not found\n",
      "Face is not found\n",
      "Face is not found\n",
      "Face is not found\n",
      "Face is not found\n",
      "Face is not found\n",
      "Face is not found\n",
      "Face is not found\n",
      "Face is not found\n",
      "Face is not found\n",
      "Face is not found\n",
      "Face is not found\n",
      "Face is not found\n",
      "Face is not found\n",
      "Face is not found\n",
      "Face is not found\n",
      "Face is not found\n",
      "Face is not found\n",
      "Face is not found\n",
      "Face is not found\n",
      "Face is not found\n",
      "Face is not found\n",
      "Face is not found\n",
      "Face is not found\n",
      "Face is not found\n",
      "Face is not found\n",
      "Face is not found\n",
      "Face is not found\n",
      "Face is not found\n",
      "Face is not found\n",
      "Face is not found\n",
      "Face is not found\n",
      "Face is not found\n",
      "Face is not found\n",
      "Face is not found\n",
      "Face is not found\n",
      "Face is not found\n",
      "Face is not found\n",
      "Face is not found\n",
      "Face is not found\n",
      "Face is not found\n",
      "Face is not found\n",
      "Face is not found\n",
      "Face is not found\n",
      "Face is not found\n",
      "Face is not found\n",
      "Face is not found\n",
      "Face is not found\n",
      "Face is not found\n",
      "Face is not found\n",
      "Face is not found\n",
      "Face is not found\n",
      "Face is not found\n",
      "Face is not found\n",
      "Face is not found\n",
      "Face is not found\n",
      "Face is not found\n",
      "Face is not found\n",
      "Face is not found\n",
      "Face is not found\n",
      "Face is not found\n",
      "Face is not found\n",
      "Face is not found\n",
      "Face is not found\n",
      "Face is not found\n"
     ]
    }
   ],
   "execution_count": 12
  },
  {
   "metadata": {},
   "cell_type": "code",
   "source": "",
   "id": "c61e526677d128fd",
   "outputs": [],
   "execution_count": null
  }
 ],
 "metadata": {
  "kernelspec": {
   "display_name": "Python 3",
   "language": "python",
   "name": "python3"
  },
  "language_info": {
   "codemirror_mode": {
    "name": "ipython",
    "version": 2
   },
   "file_extension": ".py",
   "mimetype": "text/x-python",
   "name": "python",
   "nbconvert_exporter": "python",
   "pygments_lexer": "ipython2",
   "version": "2.7.6"
  }
 },
 "nbformat": 4,
 "nbformat_minor": 5
}
