{
 "cells": [
  {
   "cell_type": "code",
   "execution_count": 1,
   "id": "c6cf902f",
   "metadata": {},
   "outputs": [
    {
     "name": "stdout",
     "output_type": "stream",
     "text": [
      "Requirement already satisfied: opencv-python==4.8.1.78 in c:\\users\\swami\\anaconda3\\lib\\site-packages (4.8.1.78)\n",
      "Requirement already satisfied: numpy>=1.21.2 in c:\\users\\swami\\anaconda3\\lib\\site-packages (from opencv-python==4.8.1.78) (1.26.4)\n"
     ]
    }
   ],
   "source": [
    "# install opencv\n",
    "!pip install opencv-python==4.8.1.78"
   ]
  },
  {
   "cell_type": "code",
   "execution_count": 3,
   "id": "bbf510ec",
   "metadata": {},
   "outputs": [
    {
     "data": {
      "text/plain": [
       "'4.8.1'"
      ]
     },
     "execution_count": 3,
     "metadata": {},
     "output_type": "execute_result"
    }
   ],
   "source": [
    "import cv2\n",
    "cv2.__version__"
   ]
  },
  {
   "cell_type": "code",
   "execution_count": 4,
   "id": "fe5dfb8f",
   "metadata": {},
   "outputs": [],
   "source": [
    "import cv2"
   ]
  },
  {
   "cell_type": "code",
   "execution_count": 5,
   "id": "8c694c1d",
   "metadata": {},
   "outputs": [
    {
     "name": "stdin",
     "output_type": "stream",
     "text": [
      "enter the name of the person  abc\n"
     ]
    }
   ],
   "source": [
    "# Facial Image Collection\n",
    "person_name=input(\"enter the name of the person \")"
   ]
  },
  {
   "cell_type": "code",
   "execution_count": 6,
   "id": "05cef51e",
   "metadata": {},
   "outputs": [
    {
     "data": {
      "text/plain": [
       "'abc'"
      ]
     },
     "execution_count": 6,
     "metadata": {},
     "output_type": "execute_result"
    }
   ],
   "source": [
    "person_name"
   ]
  },
  {
   "cell_type": "code",
   "execution_count": 7,
   "id": "50d90fb5",
   "metadata": {},
   "outputs": [],
   "source": [
    "#image counter\n",
    "counter=0\n",
    "#AI model for face detection in an image/video\n",
    "face_detector=cv2.CascadeClassifier(\"haarcascade_frontalface_default.xml\")"
   ]
  },
  {
   "cell_type": "code",
   "execution_count": 8,
   "id": "088fd0c0",
   "metadata": {},
   "outputs": [
    {
     "data": {
      "text/plain": [
       "< cv2.CascadeClassifier 000001B68DB0CDF0>"
      ]
     },
     "execution_count": 8,
     "metadata": {},
     "output_type": "execute_result"
    }
   ],
   "source": [
    "face_detector"
   ]
  },
  {
   "cell_type": "code",
   "execution_count": 9,
   "id": "b366489d",
   "metadata": {},
   "outputs": [
    {
     "name": "stderr",
     "output_type": "stream",
     "text": [
      "<>:8: SyntaxWarning: \"is\" with 'tuple' literal. Did you mean \"==\"?\n",
      "<>:8: SyntaxWarning: \"is\" with 'tuple' literal. Did you mean \"==\"?\n",
      "C:\\Users\\Swami\\AppData\\Local\\Temp\\ipykernel_31176\\1572938346.py:8: SyntaxWarning: \"is\" with 'tuple' literal. Did you mean \"==\"?\n",
      "  if face_portion is ():\n"
     ]
    },
    {
     "name": "stdout",
     "output_type": "stream",
     "text": [
      "Face is not found\n",
      "success- True\n",
      "Face is not found\n",
      "success- True\n",
      "Face is not found\n",
      "success- True\n",
      "Face is not found\n",
      "success- True\n",
      "Face is not found\n",
      "success- True\n",
      "Face is not found\n",
      "success- True\n",
      "Face is not found\n",
      "success- True\n",
      "Face is not found\n",
      "success- True\n",
      "Face is not found\n",
      "success- True\n",
      "Face is not found\n",
      "success- True\n",
      "Face is not found\n",
      "success- True\n",
      "Face is not found\n",
      "success- True\n",
      "Face is not found\n",
      "success- True\n",
      "Face is not found\n",
      "success- True\n",
      "Face is not found\n",
      "success- True\n",
      "Face is not found\n",
      "success- True\n",
      "Face is not found\n",
      "success- True\n",
      "Face is not found\n",
      "success- True\n",
      "Face is not found\n",
      "success- True\n",
      "Face is not found\n",
      "success- True\n",
      "Face is not found\n",
      "success- True\n",
      "Face is not found\n",
      "success- True\n",
      "Face is not found\n",
      "success- True\n",
      "Face is not found\n",
      "success- True\n",
      "Face is not found\n",
      "success- True\n",
      "Face is not found\n",
      "success- True\n",
      "Face is not found\n",
      "success- True\n",
      "Face is not found\n",
      "success- True\n",
      "Face is not found\n",
      "success- True\n",
      "Face is not found\n",
      "success- True\n",
      "Face is not found\n",
      "success- True\n",
      "Face is not found\n",
      "success- True\n",
      "Face is not found\n",
      "success- True\n",
      "Face is not found\n",
      "success- True\n",
      "Face is not found\n",
      "success- True\n",
      "Face is not found\n",
      "success- True\n",
      "Face is not found\n",
      "success- True\n",
      "Face is not found\n",
      "success- True\n",
      "Face is not found\n",
      "success- True\n",
      "Face is not found\n",
      "success- True\n",
      "Face is not found\n",
      "success- True\n",
      "Face is not found\n",
      "success- True\n",
      "Face is not found\n",
      "success- True\n",
      "Face is not found\n",
      "success- True\n",
      "Face is not found\n",
      "success- True\n",
      "Face is not found\n",
      "success- True\n",
      "Face is not found\n",
      "success- True\n",
      "Face is not found\n",
      "success- True\n",
      "Face is not found\n",
      "success- True\n",
      "Face is not found\n",
      "success- True\n",
      "Face is not found\n",
      "success- True\n",
      "Face is not found\n",
      "success- True\n",
      "Face is not found\n",
      "success- True\n",
      "Face is not found\n",
      "success- True\n",
      "Face is not found\n",
      "success- True\n",
      "Face is not found\n",
      "success- True\n",
      "Face is not found\n",
      "success- True\n",
      "Face is not found\n",
      "success- True\n",
      "Face is not found\n",
      "success- True\n",
      "Face is not found\n",
      "success- True\n",
      "Face is not found\n",
      "success- True\n",
      "Face is not found\n",
      "success- True\n",
      "Face is not found\n",
      "success- True\n",
      "Face is not found\n",
      "success- True\n",
      "Face is not found\n",
      "success- True\n",
      "Face is not found\n",
      "success- True\n",
      "Face is not found\n",
      "success- True\n",
      "Face is not found\n",
      "success- True\n",
      "Face is not found\n",
      "success- True\n",
      "Face is not found\n",
      "success- True\n",
      "Face is not found\n",
      "success- True\n",
      "Face is not found\n",
      "success- True\n",
      "Face is not found\n",
      "success- True\n",
      "Face is not found\n",
      "success- True\n",
      "Face is not found\n",
      "success- True\n",
      "Face is not found\n",
      "success- True\n",
      "Face is not found\n",
      "success- True\n",
      "Face is not found\n",
      "success- True\n",
      "Face is not found\n",
      "success- True\n",
      "Face is not found\n",
      "success- True\n"
     ]
    },
    {
     "ename": "error",
     "evalue": "OpenCV(4.8.1) D:\\a\\opencv-python\\opencv-python\\opencv\\modules\\imgproc\\src\\resize.cpp:4062: error: (-215:Assertion failed) !ssize.empty() in function 'cv::resize'\n",
     "output_type": "error",
     "traceback": [
      "\u001b[1;31m---------------------------------------------------------------------------\u001b[0m",
      "\u001b[1;31merror\u001b[0m                                     Traceback (most recent call last)",
      "Cell \u001b[1;32mIn[9], line 24\u001b[0m\n\u001b[0;32m     21\u001b[0m counter\u001b[38;5;241m=\u001b[39mcounter\u001b[38;5;241m+\u001b[39m\u001b[38;5;241m1\u001b[39m \u001b[38;5;66;03m# Increment the image counter\u001b[39;00m\n\u001b[0;32m     23\u001b[0m \u001b[38;5;66;03m# Resize the cropped face image to a standard size (400x400)\u001b[39;00m\n\u001b[1;32m---> 24\u001b[0m face_image\u001b[38;5;241m=\u001b[39mcv2\u001b[38;5;241m.\u001b[39mresize(cropped_image,(\u001b[38;5;241m400\u001b[39m,\u001b[38;5;241m400\u001b[39m))\n\u001b[0;32m     26\u001b[0m \u001b[38;5;66;03m# Construct the filename and path for saving the face image\u001b[39;00m\n\u001b[0;32m     27\u001b[0m file_name\u001b[38;5;241m=\u001b[39m\u001b[38;5;124m'\u001b[39m\u001b[38;5;124m./Images/\u001b[39m\u001b[38;5;124m'\u001b[39m\u001b[38;5;241m+\u001b[39mperson_name\u001b[38;5;241m+\u001b[39m\u001b[38;5;124m\"\u001b[39m\u001b[38;5;124m-\u001b[39m\u001b[38;5;124m\"\u001b[39m\u001b[38;5;241m+\u001b[39m\u001b[38;5;28mstr\u001b[39m(counter)\u001b[38;5;241m+\u001b[39m\u001b[38;5;124m'\u001b[39m\u001b[38;5;124m.jpg\u001b[39m\u001b[38;5;124m'\u001b[39m\n",
      "\u001b[1;31merror\u001b[0m: OpenCV(4.8.1) D:\\a\\opencv-python\\opencv-python\\opencv\\modules\\imgproc\\src\\resize.cpp:4062: error: (-215:Assertion failed) !ssize.empty() in function 'cv::resize'\n"
     ]
    }
   ],
   "source": [
    "# To capture images using web cam\n",
    "while True:\n",
    "    cap=cv2.VideoCapture(0) # Opens the default camera (webcam)\n",
    "    success,image=cap.read() # Read a frame from the webcam\n",
    "    face_portion=face_detector.detectMultiScale(image) # Detect faces in the current frame\n",
    "    \n",
    "     # Check if no faces are detected in the frame\n",
    "    if face_portion is ():\n",
    "        print(\"Face is not found\")\n",
    "        print(\"success-\",success)\n",
    "    \n",
    "    # If faces are detected, process each face in the face_portion list\n",
    "    else:\n",
    "        \n",
    "        for (x,y,w,h) in face_portion:\n",
    "            x=x-30 # Expand the bounding box by 30 pixels for better framing\n",
    "            y=y-30\n",
    "            cropped_image=image[y:y+h+30,x:x+w+30] # Crop the image around the detected face\n",
    "                \n",
    "        \n",
    "        counter=counter+1 # Increment the image counter\n",
    "        \n",
    "        # Resize the cropped face image to a standard size (400x400)\n",
    "        face_image=cv2.resize(cropped_image,(400,400))\n",
    "        \n",
    "        # Construct the filename and path for saving the face image\n",
    "        file_name='./Images/'+person_name+\"-\"+str(counter)+'.jpg'\n",
    "        \n",
    "        # Save the captured face image to the specified file path\n",
    "        cv2.imwrite(file_name,cropped_image)\n",
    "         \n",
    "        # Display the current count of images captured on the frame    \n",
    "        cv2.putText(image, \n",
    "                    str(counter), \n",
    "                    (150, 150), \n",
    "                    cv2.FONT_HERSHEY_COMPLEX, \n",
    "                    1,\n",
    "                    (0,255,0), 2)\n",
    "        \n",
    "        # Draw a rectangle around the detected face on the original image\n",
    "        cv2.rectangle(image, (x, y), (x+w+30, y+h+30), (0, 255, 0), 2)\n",
    "        \n",
    "        # Show the frame with the rectangle and counter in a window\n",
    "        cv2.imshow(\"Image Window\",image)\n",
    "        \n",
    "    # Exit the loop if 'q' is pressed or 100 images are captured\n",
    "    if cv2.waitKey(100)==ord('q') or counter==100:\n",
    "        break\n",
    "# Release the webcam and close all OpenCV windows\n",
    "cap.release()\n",
    "cv2.destroyAllWindows()"
   ]
  },
  {
   "cell_type": "code",
   "execution_count": null,
   "id": "3c5d66e9",
   "metadata": {},
   "outputs": [],
   "source": []
  },
  {
   "cell_type": "code",
   "execution_count": null,
   "id": "1a52633c",
   "metadata": {},
   "outputs": [],
   "source": []
  }
 ],
 "metadata": {
  "kernelspec": {
   "display_name": "Python 3 (ipykernel)",
   "language": "python",
   "name": "python3"
  },
  "language_info": {
   "codemirror_mode": {
    "name": "ipython",
    "version": 3
   },
   "file_extension": ".py",
   "mimetype": "text/x-python",
   "name": "python",
   "nbconvert_exporter": "python",
   "pygments_lexer": "ipython3",
   "version": "3.12.7"
  }
 },
 "nbformat": 4,
 "nbformat_minor": 5
}
