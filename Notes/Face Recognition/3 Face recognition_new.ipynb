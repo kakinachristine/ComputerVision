{
 "cells": [
  {
   "cell_type": "code",
   "execution_count": 6,
   "id": "09636755",
   "metadata": {},
   "outputs": [],
   "source": [
    "# Importing the libraries\n",
    "from PIL import Image\n",
    "import cv2\n",
    "from keras.models import load_model\n",
    "import numpy as np"
   ]
  },
  {
   "cell_type": "code",
   "execution_count": 7,
   "id": "101f0bdc",
   "metadata": {},
   "outputs": [],
   "source": [
    "from keras.preprocessing import image\n",
    "# load the saved model\n",
    "model = load_model('vgg16_fr.h5')\n",
    "\n",
    "# Loading the cascades\n",
    "face_detector = cv2.CascadeClassifier('haarcascade_frontalface_default.xml')\n"
   ]
  },
  {
   "cell_type": "code",
   "execution_count": 12,
   "id": "1ac0a854",
   "metadata": {},
   "outputs": [
    {
     "name": "stderr",
     "output_type": "stream",
     "text": [
      "<>:6: SyntaxWarning: \"is\" with a literal. Did you mean \"==\"?\n",
      "<>:6: SyntaxWarning: \"is\" with a literal. Did you mean \"==\"?\n",
      "C:\\Users\\richa\\AppData\\Local\\Temp\\ipykernel_384596\\1980126147.py:6: SyntaxWarning: \"is\" with a literal. Did you mean \"==\"?\n",
      "  if face_portion is ():\n"
     ]
    },
    {
     "name": "stdout",
     "output_type": "stream",
     "text": [
      "1/1 [==============================] - 0s 196ms/step\n",
      "[[0.0000000e+00 1.0000000e+00 3.7626678e-27]]\n"
     ]
    }
   ],
   "source": [
    "# test\n",
    "test_image = cv2.imread('.\\\\Datasets\\\\Test\\\\richa\\\\richa-1.jpg')\n",
    "face_portion=face_detector.detectMultiScale(test_image) # Detect faces in the test image\n",
    "\n",
    "# Check if no faces are detected in the test image    \n",
    "if face_portion is ():\n",
    "    print(\"Face is not found\")\n",
    "\n",
    "# If faces are detected, process each face in the face_portion list    \n",
    "else:\n",
    "    for (x,y,w,h) in face_portion:\n",
    "        x=x-30 \n",
    "        y=y-30\n",
    "        cropped_image=test_image[y:y+h+30,x:x+w+30]\n",
    "    if type(cropped_image) is np.ndarray:\n",
    "        img_array = cv2.resize(cropped_image, (224, 224))\n",
    "        # convert a NumPy array (which is typically how images are represented in libraries like OpenCV) \n",
    "        # into a PIL (Python Imaging Library) Image object\n",
    "        #im = Image.fromarray(cropped_image, 'RGB') \n",
    "        #Resizing into 224x224 because we trained the model with this image size.\n",
    "        #img_array = np.array(im)\n",
    "        #Our keras model used a 4D tensor, (images x height x width x channel)\n",
    "        #So changing dimension 224x224x3 into 1x224x224x3 \n",
    "        img_array = np.expand_dims(img_array, axis=0)\n",
    "        pred = model.predict(img_array)\n",
    "        print(pred)\n",
    "\n",
    "            \n",
    "            \n",
    "        if(pred[0][0]>0.7):\n",
    "            name='Nilay'\n",
    "        elif(pred[0][1]>0.7):\n",
    "            name='Richa'\n",
    "        elif(pred[0][2]>0.7): \n",
    "            name = 'Trevor'\n",
    "        else:\n",
    "            name=\"None matching\"\n",
    "    "
   ]
  },
  {
   "cell_type": "code",
   "execution_count": 13,
   "id": "c8405e3f",
   "metadata": {},
   "outputs": [
    {
     "name": "stdout",
     "output_type": "stream",
     "text": [
      "Richa\n"
     ]
    }
   ],
   "source": [
    "print(name)"
   ]
  },
  {
   "cell_type": "code",
   "execution_count": 10,
   "id": "67c85bb1",
   "metadata": {},
   "outputs": [
    {
     "name": "stdout",
     "output_type": "stream",
     "text": [
      "['nilay', 'richa', 'trevor']\n"
     ]
    }
   ],
   "source": [
    "import os\n",
    "\n",
    "# Directory containing the subfolders, each representing a class\n",
    "directory = 'Datasets/Train'\n",
    "\n",
    "# Get a list of all subfolders (class names) in the directory\n",
    "class_names = [f.name for f in os.scandir(directory) if f.is_dir()]\n",
    "\n",
    "# Print the class names\n",
    "print(class_names)"
   ]
  },
  {
   "cell_type": "code",
   "execution_count": null,
   "id": "bef67eca",
   "metadata": {},
   "outputs": [],
   "source": []
  }
 ],
 "metadata": {
  "kernelspec": {
   "display_name": "Python 3 (ipykernel)",
   "language": "python",
   "name": "python3"
  },
  "language_info": {
   "codemirror_mode": {
    "name": "ipython",
    "version": 3
   },
   "file_extension": ".py",
   "mimetype": "text/x-python",
   "name": "python",
   "nbconvert_exporter": "python",
   "pygments_lexer": "ipython3",
   "version": "3.12.7"
  }
 },
 "nbformat": 4,
 "nbformat_minor": 5
}
